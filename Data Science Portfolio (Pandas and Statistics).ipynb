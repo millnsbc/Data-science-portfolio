{
 "cells": [
  {
   "cell_type": "markdown",
   "metadata": {
    "id": "nl4PEXbFTjf2"
   },
   "source": [
    "# Parts 1 and 2- Pandas and Statistics\n",
    "\n",
    "---"
   ]
  },
  {
   "cell_type": "markdown",
   "metadata": {
    "id": "3Pe7XhS9wEVw"
   },
   "source": [
    "# Part 1 - Pre-processing and exploratory analysis"
   ]
  },
  {
   "cell_type": "code",
   "execution_count": 1,
   "metadata": {
    "id": "acSREWbeG0mm"
   },
   "outputs": [],
   "source": [
    "import scipy, os\n",
    "import pandas as pd\n",
    "import numpy as np\n",
    "import seaborn as sns\n",
    "import matplotlib.pyplot as plt\n",
    "import statsmodels.api as sm\n",
    "\n",
    "from datetime import date\n",
    "import statsmodels.formula.api as smf\n",
    "import statsmodels.stats.multitest as multi \n",
    "from scipy.stats import ttest_ind\n",
    "import statsmodels.api as sm"
   ]
  },
  {
   "cell_type": "markdown",
   "metadata": {
    "id": "vwuEFzzUKzJW"
   },
   "source": [
    "In this part you will be working with the  `listings.csv` data. To help you wrap around your head we will first provide some information on the main columns in the data.\n",
    "\n",
    "***Dataframe columns description***:\n",
    "\n",
    "- `id` - unique ID identifying the listing\n",
    "\n",
    "- `name` - title of the listing\n",
    "\n",
    "- `host_id` - unique ID for a host\n",
    "\n",
    "- `host_name` - first name of the host\n",
    "\n",
    "- `host_since` - date that the host first joined Airbnb\n",
    "\n",
    "- `host_is_superhost` - whether or not the host is a superhost, which is a mark of quality for the top-rated and most experienced hosts, and can increase your search ranking on Airbnb\n",
    "\n",
    "- `host_listings_count` - how many listings the host has in total\n",
    "\n",
    "- `host_has_profile_pic` - whether or not the host has a profile picture\n",
    "\n",
    "- `host_identity_verified` - whether or not the host has been verified with his passport\n",
    "\n",
    "- `neighbourhood_cleansed` - the borough the property is in\n",
    "\n",
    "- `latitude` and `longitude` - geolocation coordinates of the property\n",
    "\n",
    "- `property_type` - type of property, e.g. house or flat\n",
    "\n",
    "- `room_type` - type of listing, e.g. entire home, private room or shared room\n",
    "\n",
    "- `accommodates` - how many people the property accommodates\n",
    "\n",
    "- `bedrooms` - number of bedrooms\n",
    "\n",
    "- `beds` - number of beds\n",
    "\n",
    "- `price` - nightly advertised price (the target variable)\n",
    "\n",
    "- `minimum_nights` - the minimum length of stay\n",
    "\n",
    "- `maximum_nights` - the maximum length of stay\n",
    "\n",
    "- `availability_30` - how many nights are available to be booked in the next 30 days\n",
    "\n",
    "- `availability_60` - how many nights are available to be booked in the next 60 days\n",
    "\n",
    "- `availability_90` - how many nights are available to be booked in the next 90 days\n",
    "\n",
    "- `availability_365` - how many nights are available to be booked in the next 365 days\n",
    "\n",
    "- `number_of_reviews` - the number of reviews left for the property\n",
    "\n",
    "- `number_of_reviews_ltm` - the number of reviews left for the property in the last twelve months\n",
    "\n",
    "- `first_review` - the date of the first review\n",
    "\n",
    "- `last_review` - the date of the most recent review\n",
    "\n",
    "- `review_scores_rating` - guests can score properties overall from 1 to 5 stars\n",
    "\n",
    "- `review_scores_accuracy` - guests can score the accuracy of a property's description from 1 to 5 stars\n",
    "\n",
    "- `review_scores_cleanliness` - guests can score a property's cleanliness from 1 to 5 stars\n",
    "\n",
    "- `review_scores_checkin` - guests can score their check-in from 1 to 5 stars\n",
    "\n",
    "- `review_scores_communication` - guests can score a host's communication from 1 to 5 stars\n",
    "\n",
    "- `review_scores_location` - guests can score a property's location from 1 to 5 stars\n",
    "\n",
    "- `review_scores_value` - guests can score a booking's value for money from 1 to 5 stars\n",
    "\n",
    "- `instant_bookable` - whether or not the property can be instant booked (i.e. booked straight away, without having to message the host first and wait to be accepted)\n",
    "\n",
    "- `reviews_per_month` - calculated field of the average number of reviews left by guest each month\n",
    "\n",
    "\n",
    "The next two cells load the `listings.csv` file into a dataframe. Once loaded, start working on the subsequent questions."
   ]
  },
  {
   "cell_type": "code",
   "execution_count": null,
   "metadata": {},
   "outputs": [],
   "source": [
    "df =  pd.read_csv('listings.csv')"
   ]
  },
  {
   "cell_type": "code",
   "execution_count": 4,
   "metadata": {
    "colab": {
     "base_uri": "https://localhost:8080/",
     "height": 581
    },
    "id": "73pNEQSv5_WZ",
    "outputId": "8f8c9c0b-f9eb-466e-e047-9e7e4d40dbbe"
   },
   "outputs": [
    {
     "data": {
      "text/html": [
       "<div>\n",
       "<style scoped>\n",
       "    .dataframe tbody tr th:only-of-type {\n",
       "        vertical-align: middle;\n",
       "    }\n",
       "\n",
       "    .dataframe tbody tr th {\n",
       "        vertical-align: top;\n",
       "    }\n",
       "\n",
       "    .dataframe thead th {\n",
       "        text-align: right;\n",
       "    }\n",
       "</style>\n",
       "<table border=\"1\" class=\"dataframe\">\n",
       "  <thead>\n",
       "    <tr style=\"text-align: right;\">\n",
       "      <th></th>\n",
       "      <th>id</th>\n",
       "      <th>listing_url</th>\n",
       "      <th>scrape_id</th>\n",
       "      <th>last_scraped</th>\n",
       "      <th>name</th>\n",
       "      <th>description</th>\n",
       "      <th>neighborhood_overview</th>\n",
       "      <th>picture_url</th>\n",
       "      <th>host_id</th>\n",
       "      <th>host_url</th>\n",
       "      <th>...</th>\n",
       "      <th>review_scores_communication</th>\n",
       "      <th>review_scores_location</th>\n",
       "      <th>review_scores_value</th>\n",
       "      <th>license</th>\n",
       "      <th>instant_bookable</th>\n",
       "      <th>calculated_host_listings_count</th>\n",
       "      <th>calculated_host_listings_count_entire_homes</th>\n",
       "      <th>calculated_host_listings_count_private_rooms</th>\n",
       "      <th>calculated_host_listings_count_shared_rooms</th>\n",
       "      <th>reviews_per_month</th>\n",
       "    </tr>\n",
       "  </thead>\n",
       "  <tbody>\n",
       "    <tr>\n",
       "      <th>0</th>\n",
       "      <td>2818</td>\n",
       "      <td>https://www.airbnb.com/rooms/2818</td>\n",
       "      <td>20201212211823</td>\n",
       "      <td>2020-12-13</td>\n",
       "      <td>Quiet Garden View Room &amp; Super Fast WiFi</td>\n",
       "      <td>Quiet Garden View Room &amp; Super Fast WiFi&lt;br /&gt;...</td>\n",
       "      <td>Indische Buurt (\"Indies Neighborhood\") is a ne...</td>\n",
       "      <td>https://a0.muscache.com/pictures/10272854/8dcc...</td>\n",
       "      <td>3159</td>\n",
       "      <td>https://www.airbnb.com/users/show/3159</td>\n",
       "      <td>...</td>\n",
       "      <td>10.0</td>\n",
       "      <td>9.0</td>\n",
       "      <td>10.0</td>\n",
       "      <td>NaN</td>\n",
       "      <td>t</td>\n",
       "      <td>1</td>\n",
       "      <td>0</td>\n",
       "      <td>1</td>\n",
       "      <td>0</td>\n",
       "      <td>1.95</td>\n",
       "    </tr>\n",
       "    <tr>\n",
       "      <th>1</th>\n",
       "      <td>20168</td>\n",
       "      <td>https://www.airbnb.com/rooms/20168</td>\n",
       "      <td>20201212211823</td>\n",
       "      <td>2020-12-13</td>\n",
       "      <td>Studio with private bathroom in the centre 1</td>\n",
       "      <td>17th century Dutch townhouse in the heart of t...</td>\n",
       "      <td>Located just in between famous central canals....</td>\n",
       "      <td>https://a0.muscache.com/pictures/69979628/fd6a...</td>\n",
       "      <td>59484</td>\n",
       "      <td>https://www.airbnb.com/users/show/59484</td>\n",
       "      <td>...</td>\n",
       "      <td>10.0</td>\n",
       "      <td>10.0</td>\n",
       "      <td>9.0</td>\n",
       "      <td>NaN</td>\n",
       "      <td>t</td>\n",
       "      <td>2</td>\n",
       "      <td>0</td>\n",
       "      <td>2</td>\n",
       "      <td>0</td>\n",
       "      <td>2.58</td>\n",
       "    </tr>\n",
       "    <tr>\n",
       "      <th>2</th>\n",
       "      <td>25428</td>\n",
       "      <td>https://www.airbnb.com/rooms/25428</td>\n",
       "      <td>20201212211823</td>\n",
       "      <td>2020-12-13</td>\n",
       "      <td>Lovely apt in City Centre (w.lift) near Jordaan</td>\n",
       "      <td>Lovely apt in Centre ( lift &amp; fireplace) near ...</td>\n",
       "      <td>NaN</td>\n",
       "      <td>https://a0.muscache.com/pictures/138431/7079a9...</td>\n",
       "      <td>56142</td>\n",
       "      <td>https://www.airbnb.com/users/show/56142</td>\n",
       "      <td>...</td>\n",
       "      <td>10.0</td>\n",
       "      <td>10.0</td>\n",
       "      <td>10.0</td>\n",
       "      <td>NaN</td>\n",
       "      <td>f</td>\n",
       "      <td>1</td>\n",
       "      <td>1</td>\n",
       "      <td>0</td>\n",
       "      <td>0</td>\n",
       "      <td>0.14</td>\n",
       "    </tr>\n",
       "    <tr>\n",
       "      <th>3</th>\n",
       "      <td>27886</td>\n",
       "      <td>https://www.airbnb.com/rooms/27886</td>\n",
       "      <td>20201212211823</td>\n",
       "      <td>2020-12-13</td>\n",
       "      <td>Romantic, stylish B&amp;B houseboat in canal district</td>\n",
       "      <td>Stylish and romantic houseboat on fantastic hi...</td>\n",
       "      <td>Central, quiet, safe, clean and beautiful.</td>\n",
       "      <td>https://a0.muscache.com/pictures/02c2da9d-660e...</td>\n",
       "      <td>97647</td>\n",
       "      <td>https://www.airbnb.com/users/show/97647</td>\n",
       "      <td>...</td>\n",
       "      <td>10.0</td>\n",
       "      <td>10.0</td>\n",
       "      <td>10.0</td>\n",
       "      <td>NaN</td>\n",
       "      <td>t</td>\n",
       "      <td>1</td>\n",
       "      <td>0</td>\n",
       "      <td>1</td>\n",
       "      <td>0</td>\n",
       "      <td>2.01</td>\n",
       "    </tr>\n",
       "    <tr>\n",
       "      <th>4</th>\n",
       "      <td>28871</td>\n",
       "      <td>https://www.airbnb.com/rooms/28871</td>\n",
       "      <td>20201212211823</td>\n",
       "      <td>2020-12-13</td>\n",
       "      <td>Comfortable double room</td>\n",
       "      <td>&lt;b&gt;The space&lt;/b&gt;&lt;br /&gt;In a monumental house ri...</td>\n",
       "      <td>Flower market , Leidseplein , Rembrantsplein</td>\n",
       "      <td>https://a0.muscache.com/pictures/160889/362340...</td>\n",
       "      <td>124245</td>\n",
       "      <td>https://www.airbnb.com/users/show/124245</td>\n",
       "      <td>...</td>\n",
       "      <td>10.0</td>\n",
       "      <td>10.0</td>\n",
       "      <td>10.0</td>\n",
       "      <td>NaN</td>\n",
       "      <td>f</td>\n",
       "      <td>2</td>\n",
       "      <td>0</td>\n",
       "      <td>2</td>\n",
       "      <td>0</td>\n",
       "      <td>2.68</td>\n",
       "    </tr>\n",
       "  </tbody>\n",
       "</table>\n",
       "<p>5 rows × 74 columns</p>\n",
       "</div>"
      ],
      "text/plain": [
       "      id                         listing_url       scrape_id last_scraped  \\\n",
       "0   2818   https://www.airbnb.com/rooms/2818  20201212211823   2020-12-13   \n",
       "1  20168  https://www.airbnb.com/rooms/20168  20201212211823   2020-12-13   \n",
       "2  25428  https://www.airbnb.com/rooms/25428  20201212211823   2020-12-13   \n",
       "3  27886  https://www.airbnb.com/rooms/27886  20201212211823   2020-12-13   \n",
       "4  28871  https://www.airbnb.com/rooms/28871  20201212211823   2020-12-13   \n",
       "\n",
       "                                                name  \\\n",
       "0           Quiet Garden View Room & Super Fast WiFi   \n",
       "1       Studio with private bathroom in the centre 1   \n",
       "2    Lovely apt in City Centre (w.lift) near Jordaan   \n",
       "3  Romantic, stylish B&B houseboat in canal district   \n",
       "4                            Comfortable double room   \n",
       "\n",
       "                                         description  \\\n",
       "0  Quiet Garden View Room & Super Fast WiFi<br />...   \n",
       "1  17th century Dutch townhouse in the heart of t...   \n",
       "2  Lovely apt in Centre ( lift & fireplace) near ...   \n",
       "3  Stylish and romantic houseboat on fantastic hi...   \n",
       "4  <b>The space</b><br />In a monumental house ri...   \n",
       "\n",
       "                               neighborhood_overview  \\\n",
       "0  Indische Buurt (\"Indies Neighborhood\") is a ne...   \n",
       "1  Located just in between famous central canals....   \n",
       "2                                                NaN   \n",
       "3         Central, quiet, safe, clean and beautiful.   \n",
       "4       Flower market , Leidseplein , Rembrantsplein   \n",
       "\n",
       "                                         picture_url  host_id  \\\n",
       "0  https://a0.muscache.com/pictures/10272854/8dcc...     3159   \n",
       "1  https://a0.muscache.com/pictures/69979628/fd6a...    59484   \n",
       "2  https://a0.muscache.com/pictures/138431/7079a9...    56142   \n",
       "3  https://a0.muscache.com/pictures/02c2da9d-660e...    97647   \n",
       "4  https://a0.muscache.com/pictures/160889/362340...   124245   \n",
       "\n",
       "                                   host_url  ... review_scores_communication  \\\n",
       "0    https://www.airbnb.com/users/show/3159  ...                        10.0   \n",
       "1   https://www.airbnb.com/users/show/59484  ...                        10.0   \n",
       "2   https://www.airbnb.com/users/show/56142  ...                        10.0   \n",
       "3   https://www.airbnb.com/users/show/97647  ...                        10.0   \n",
       "4  https://www.airbnb.com/users/show/124245  ...                        10.0   \n",
       "\n",
       "  review_scores_location review_scores_value license instant_bookable  \\\n",
       "0                    9.0                10.0     NaN                t   \n",
       "1                   10.0                 9.0     NaN                t   \n",
       "2                   10.0                10.0     NaN                f   \n",
       "3                   10.0                10.0     NaN                t   \n",
       "4                   10.0                10.0     NaN                f   \n",
       "\n",
       "  calculated_host_listings_count calculated_host_listings_count_entire_homes  \\\n",
       "0                              1                                           0   \n",
       "1                              2                                           0   \n",
       "2                              1                                           1   \n",
       "3                              1                                           0   \n",
       "4                              2                                           0   \n",
       "\n",
       "  calculated_host_listings_count_private_rooms  \\\n",
       "0                                            1   \n",
       "1                                            2   \n",
       "2                                            0   \n",
       "3                                            1   \n",
       "4                                            2   \n",
       "\n",
       "  calculated_host_listings_count_shared_rooms reviews_per_month  \n",
       "0                                           0              1.95  \n",
       "1                                           0              2.58  \n",
       "2                                           0              0.14  \n",
       "3                                           0              2.01  \n",
       "4                                           0              2.68  \n",
       "\n",
       "[5 rows x 74 columns]"
      ]
     },
     "execution_count": 4,
     "metadata": {},
     "output_type": "execute_result"
    }
   ],
   "source": [
    "df = load_csv(basedir)\n",
    "df.head()"
   ]
  },
  {
   "cell_type": "markdown",
   "metadata": {
    "id": "Pzc714QhKf3g"
   },
   "source": [
    "## Question 1a"
   ]
  },
  {
   "cell_type": "code",
   "execution_count": 5,
   "metadata": {
    "id": "8m6wSWKPJPLR"
   },
   "outputs": [],
   "source": [
    "# Do not rename the function, do not remove the return statement.\n",
    "# Just add code before the return statement to add the required functionality.\n",
    "def drop_cols(df):\n",
    "    ''' Takes a dataframe as an input. Returns a reduced dataframe, by dropping specific columns.\n",
    "\n",
    "    Parameters\n",
    "    ----------\n",
    "    df: pandas.DataFrame\n",
    "        The Airbnb dataframe\n",
    "        \n",
    "    Returns\n",
    "    ----------\n",
    "    df: pandas.DataFrame\n",
    "        Reduced dataframe where columns:\n",
    "            'scrape_id','last_scraped','description','listing_url','neighbourhood','calendar_last_scraped', \n",
    "            'amenities','neighborhood_overview', 'picture_url','host_url', 'host_about',\n",
    "            'host_location','host_total_listings_count','host_thumbnail_url','host_picture_url',\n",
    "            'host_verifications','bathrooms_text','has_availability','minimum_minimum_nights','maximum_minimum_nights',\n",
    "            'minimum_maximum_nights','maximum_maximum_nights','minimum_nights_avg_ntm','maximum_nights_avg_ntm',\n",
    "            'number_of_reviews_l30d','calculated_host_listings_count','calculated_host_listings_count_entire_homes',\n",
    "            'calculated_host_listings_count_private_rooms','calculated_host_listings_count_shared_rooms'\n",
    "        have been dropped from the dataframe.\n",
    "    '''\n",
    "    df = df.drop(columns = ['scrape_id','last_scraped','description','listing_url','neighbourhood','calendar_last_scraped', \n",
    "    'amenities','neighborhood_overview', 'picture_url','host_url', 'host_about',\n",
    "    'host_location','host_total_listings_count','host_thumbnail_url','host_picture_url',\n",
    "    'host_verifications','bathrooms_text','has_availability','minimum_minimum_nights','maximum_minimum_nights',\n",
    "    'minimum_maximum_nights','maximum_maximum_nights','minimum_nights_avg_ntm','maximum_nights_avg_ntm',\n",
    "    'number_of_reviews_l30d','calculated_host_listings_count','calculated_host_listings_count_entire_homes',\n",
    "    'calculated_host_listings_count_private_rooms','calculated_host_listings_count_shared_rooms'])\n",
    "\n",
    "    return df"
   ]
  },
  {
   "cell_type": "code",
   "execution_count": 6,
   "metadata": {
    "colab": {
     "base_uri": "https://localhost:8080/"
    },
    "id": "GpBDncpjFrDh",
    "outputId": "82c16b86-7485-47fa-a51e-3314137b77bc"
   },
   "outputs": [
    {
     "data": {
      "text/plain": [
       "Index(['id', 'name', 'host_id', 'host_name', 'host_since',\n",
       "       'host_response_time', 'host_response_rate', 'host_acceptance_rate',\n",
       "       'host_is_superhost', 'host_neighbourhood', 'host_listings_count',\n",
       "       'host_has_profile_pic', 'host_identity_verified',\n",
       "       'neighbourhood_cleansed', 'neighbourhood_group_cleansed', 'latitude',\n",
       "       'longitude', 'property_type', 'room_type', 'accommodates', 'bathrooms',\n",
       "       'bedrooms', 'beds', 'price', 'minimum_nights', 'maximum_nights',\n",
       "       'calendar_updated', 'availability_30', 'availability_60',\n",
       "       'availability_90', 'availability_365', 'number_of_reviews',\n",
       "       'number_of_reviews_ltm', 'first_review', 'last_review',\n",
       "       'review_scores_rating', 'review_scores_accuracy',\n",
       "       'review_scores_cleanliness', 'review_scores_checkin',\n",
       "       'review_scores_communication', 'review_scores_location',\n",
       "       'review_scores_value', 'license', 'instant_bookable',\n",
       "       'reviews_per_month'],\n",
       "      dtype='object')"
      ]
     },
     "execution_count": 6,
     "metadata": {},
     "output_type": "execute_result"
    }
   ],
   "source": [
    "df = drop_cols(df)\n",
    "df.columns"
   ]
  },
  {
   "cell_type": "code",
   "execution_count": 7,
   "metadata": {
    "id": "JgsX31bPJLfc"
   },
   "outputs": [],
   "source": [
    "def drop_cols_na(df, threshold=0.5):\n",
    "    ''' Drops colums from a dataframe depending on the proportion of NaN values in the column, depending on a threshold value\n",
    "\n",
    "    Parameters\n",
    "    ----------\n",
    "    df: pandas.DataFrame\n",
    "    \n",
    "    threshold: float, optional\n",
    "        float between 0 and 1\n",
    "        equal to 0.5 if not given\n",
    "        \n",
    "    Returns\n",
    "    ----------\n",
    "    df: pandas.DataFrame\n",
    "        If the proportion of NaNs in a column is equal or larger than the threshold,\n",
    "        the respective columns is dropped. The new dataframe is returned.\n",
    "    '''\n",
    "    \n",
    "    if threshold < 0 or threshold > 1:\n",
    "        print('Threshold is smaller than 0 or bigger than 1, default threshold of 0.5 will be used.')\n",
    "        threshold = 0.5\n",
    "    df = df.loc[:,df.isnull().mean() < threshold]\n",
    "    return df"
   ]
  },
  {
   "cell_type": "code",
   "execution_count": 8,
   "metadata": {
    "id": "y0DPwLXwSDGy"
   },
   "outputs": [],
   "source": [
    "df = drop_cols_na(df)"
   ]
  },
  {
   "cell_type": "markdown",
   "metadata": {
    "id": "y6SMYnVDKt1d"
   },
   "source": [
    "## Question 1b"
   ]
  },
  {
   "cell_type": "code",
   "execution_count": 9,
   "metadata": {
    "id": "bmVFiWQPTjgA"
   },
   "outputs": [],
   "source": [
    "#df = df.replace('f',int(0))\n",
    "#df = df.replace('t',int(1))\n",
    "\n",
    "# try\n",
    "#df = df.replace('f',0.astype(int))\n",
    "#df = df.replace('t',1.astype(int))"
   ]
  },
  {
   "cell_type": "code",
   "execution_count": 10,
   "metadata": {
    "id": "lcw2iovWK-EN"
   },
   "outputs": [],
   "source": [
    "#def binary_encoding(df):\n",
    " #   df = df.replace(['t','f'],[int(1),int(0)]) # gives a float instead of an integer\n",
    "  #  return df"
   ]
  },
  {
   "cell_type": "code",
   "execution_count": 11,
   "metadata": {
    "id": "3jwGXOIZTjgB"
   },
   "outputs": [],
   "source": [
    "def binary_encoding(df):\n",
    "    ''' \n",
    "    Replaces values 't' and 'f' with 1 and 0, respectively \n",
    "\n",
    "    Parameters\n",
    "    ----------\n",
    "    df: pandas.DataFrame\n",
    "      Airbnb dataframe\n",
    "   \n",
    "    Returns\n",
    "    ----------\n",
    "    df: pandas.DataFrame\n",
    "        Returns dataframe with values 't' and 'f' replaced with 1 and 0, respectively\n",
    "    '''\n",
    "       \n",
    "    # loops through all values in specified column if the value = 't' it is replaced by 1\n",
    "    for i in range(len(df)):\n",
    "        if df.iloc[i,6] == 't':\n",
    "            df.iloc[i,6] = 1\n",
    "        if df.iloc[i,6] == 'f':\n",
    "            df.iloc[i,6] = 0\n",
    "        if df.iloc[i,9] == 't':\n",
    "            df.iloc[i,9] = 1\n",
    "        if df.iloc[i,9] == 'f':\n",
    "            df.iloc[i,9] = 0 \n",
    "        if df.iloc[i,10] == 't':\n",
    "            df.iloc[i,10] = 1\n",
    "        if df.iloc[i,10] == 'f':\n",
    "            df.iloc[i,10] = 0 \n",
    "        if df.iloc[i,37] == 't':\n",
    "            df.iloc[i,37] = 1\n",
    "        if df.iloc[i,37] == 'f':\n",
    "            df.iloc[i,37] = 0 \n",
    "    return df"
   ]
  },
  {
   "cell_type": "code",
   "execution_count": 12,
   "metadata": {
    "id": "aZ7BoRBhlbYV"
   },
   "outputs": [],
   "source": [
    "df = binary_encoding(df)"
   ]
  },
  {
   "cell_type": "code",
   "execution_count": 13,
   "metadata": {
    "id": "nKc_EqKdLDdV"
   },
   "outputs": [],
   "source": [
    "# hint: check Pandas to_datetime method\n",
    "def add_host_days(df):\n",
    "    ''' \n",
    "    Adds column host_days to df. host days is the number of days that a host has\n",
    "    been registered\n",
    "\n",
    "    Parameters\n",
    "    ----------\n",
    "    df: pandas.DataFrame\n",
    "      Airbnb dataframe\n",
    "   \n",
    "    Returns\n",
    "    ----------\n",
    "    df: pandas.DataFrame\n",
    "        Dataframe with host_days added \n",
    "    \n",
    "    '''\n",
    "    days = pd.to_datetime(date.today()) - pd.to_datetime(df['host_since'])\n",
    "    df['host_days'] = days.dt.days # gets the days between\n",
    "    return df"
   ]
  },
  {
   "cell_type": "code",
   "execution_count": 14,
   "metadata": {
    "id": "1KNvK2SKLEcW"
   },
   "outputs": [],
   "source": [
    "def convert_price(df):\n",
    "    ''' \n",
    "    Converts the values in the 'price' column from a string to a float.\n",
    "    for example '$40' becomes 40.0\n",
    "\n",
    "    Parameters\n",
    "    ----------\n",
    "    df: pandas.DataFrame\n",
    "      Airbnb dataframe\n",
    "   \n",
    "    Returns\n",
    "    ----------\n",
    "    df: pandas.DataFrame\n",
    "        Dataframe with values in price column replaced by floats \n",
    "    \n",
    "    '''\n",
    "    # loop through all values in price column\n",
    "    for i in range(len(df['price'])):\n",
    "        # delete $ in all values\n",
    "        df['price'][i] = df['price'][i].replace(df['price'][i],df['price'][i][1:].replace(',',''))\n",
    "    df['price'] = df['price'].astype(float) #convert to float\n",
    "    return df"
   ]
  },
  {
   "cell_type": "code",
   "execution_count": 15,
   "metadata": {
    "colab": {
     "base_uri": "https://localhost:8080/"
    },
    "id": "MTGf_mt2iwwG",
    "outputId": "8e39df28-317c-4bd4-e826-ba4ae8376a8e"
   },
   "outputs": [
    {
     "name": "stderr",
     "output_type": "stream",
     "text": [
      "<ipython-input-14-342f1ed919c5>:20: SettingWithCopyWarning: \n",
      "A value is trying to be set on a copy of a slice from a DataFrame\n",
      "\n",
      "See the caveats in the documentation: https://pandas.pydata.org/pandas-docs/stable/user_guide/indexing.html#returning-a-view-versus-a-copy\n",
      "  df['price'][i] = df['price'][i].replace(df['price'][i],df['price'][i][1:].replace(',',''))\n"
     ]
    }
   ],
   "source": [
    "df = add_host_days(df)\n",
    "df = convert_price(df)"
   ]
  },
  {
   "cell_type": "markdown",
   "metadata": {
    "id": "F1T-93iSQoXO"
   },
   "source": [
    "## Question 1c: Answering questions.\n",
    "\n",
    "You do not need to write the answer. In each cell, provide the Pandas code that outputs the result. Each answer can be given with 1-2 lines of Python code. Example question and answer:\n",
    "\n",
    "```python\n",
    "# What is the total number of rows in the dataframe?\n",
    "df.shape[0]\n",
    "```\n",
    "\n",
    "Now over to you:"
   ]
  },
  {
   "cell_type": "code",
   "execution_count": 16,
   "metadata": {
    "colab": {
     "base_uri": "https://localhost:8080/"
    },
    "id": "gM3BRpVlni7z",
    "outputId": "34f6f077-905d-4206-f674-29f325e52a88"
   },
   "outputs": [
    {
     "data": {
      "text/plain": [
       "1331"
      ]
     },
     "execution_count": 16,
     "metadata": {},
     "output_type": "execute_result"
    }
   ],
   "source": [
    "# How many hosts offer 2 or more properties for rent?\n",
    "sum(df['host_id'].value_counts() > 1)"
   ]
  },
  {
   "cell_type": "code",
   "execution_count": 17,
   "metadata": {
    "colab": {
     "base_uri": "https://localhost:8080/"
    },
    "id": "angGfYJxpOJ5",
    "outputId": "d97712bb-99c5-4097-eb71-12361a00f52d"
   },
   "outputs": [
    {
     "data": {
      "text/plain": [
       "8000.0"
      ]
     },
     "execution_count": 17,
     "metadata": {},
     "output_type": "execute_result"
    }
   ],
   "source": [
    "# What is the highest price for a listing?\n",
    "max(df['price'])"
   ]
  },
  {
   "cell_type": "code",
   "execution_count": 18,
   "metadata": {
    "colab": {
     "base_uri": "https://localhost:8080/"
    },
    "id": "WRiPS2fypnz3",
    "outputId": "aab4d420-9a5e-448b-ed7a-c6b045f9923c"
   },
   "outputs": [
    {
     "data": {
      "text/plain": [
       "18352"
      ]
     },
     "execution_count": 18,
     "metadata": {},
     "output_type": "execute_result"
    }
   ],
   "source": [
    "# What is the ID of the listing that has the largest number of bedrooms?\n",
    "df['id'][df['bedrooms'] == max(df['bedrooms'])].index[0]"
   ]
  },
  {
   "cell_type": "code",
   "execution_count": 19,
   "metadata": {
    "colab": {
     "base_uri": "https://localhost:8080/"
    },
    "id": "eu1cSceDnsM4",
    "outputId": "a843c9f9-319d-43c1-884c-3734ce2a7b42"
   },
   "outputs": [
    {
     "data": {
      "text/plain": [
       "88         258273\n",
       "10972    21946106\n",
       "Name: id, dtype: int64"
      ]
     },
     "execution_count": 19,
     "metadata": {},
     "output_type": "execute_result"
    }
   ],
   "source": [
    "# What is the ID of the listing with the largest advertised price\n",
    "df['id'][df['price']==max(df['price'])]"
   ]
  },
  {
   "cell_type": "code",
   "execution_count": 20,
   "metadata": {
    "colab": {
     "base_uri": "https://localhost:8080/"
    },
    "id": "ZhzBksbCumZB",
    "outputId": "3a44c919-1cda-49b2-c783-7ed1c69063bb"
   },
   "outputs": [
    {
     "data": {
      "text/plain": [
       "14433"
      ]
     },
     "execution_count": 20,
     "metadata": {},
     "output_type": "execute_result"
    }
   ],
   "source": [
    "# There are different room types. How many listings are there for the most common room type?\n",
    "df['room_type'].value_counts()[0]"
   ]
  },
  {
   "cell_type": "code",
   "execution_count": 21,
   "metadata": {
    "colab": {
     "base_uri": "https://localhost:8080/"
    },
    "id": "clsRn8tEVw4a",
    "outputId": "b2188b78-5f3e-475e-945c-4047fc4fb12c"
   },
   "outputs": [
    {
     "data": {
      "text/plain": [
       "744"
      ]
     },
     "execution_count": 21,
     "metadata": {},
     "output_type": "execute_result"
    }
   ],
   "source": [
    "# How many hosts are there that have been registered for more than 3000 days?\n",
    "sum(df['host_days'].unique() > 3000)"
   ]
  },
  {
   "cell_type": "markdown",
   "metadata": {
    "id": "eZ54RCRHTjgG"
   },
   "source": [
    "### Missing values\n",
    "\n",
    "Clean the missing values as linear regression requires clean\n",
    "data"
   ]
  },
  {
   "cell_type": "code",
   "execution_count": 22,
   "metadata": {
    "colab": {
     "base_uri": "https://localhost:8080/"
    },
    "id": "fxwhirQaTjgH",
    "outputId": "dcf3d4bf-7cb1-4631-f5cd-4208430730e4"
   },
   "outputs": [
    {
     "data": {
      "text/plain": [
       "18522"
      ]
     },
     "execution_count": 22,
     "metadata": {},
     "output_type": "execute_result"
    }
   ],
   "source": [
    "len(df)"
   ]
  },
  {
   "cell_type": "code",
   "execution_count": 23,
   "metadata": {
    "colab": {
     "base_uri": "https://localhost:8080/"
    },
    "id": "Ipn39uKrTjgH",
    "outputId": "584f597b-b916-4ccc-b3ae-2792dc45eed1"
   },
   "outputs": [
    {
     "data": {
      "text/plain": [
       "id                             0.000000\n",
       "name                           0.001782\n",
       "host_id                        0.000000\n",
       "host_name                      0.002969\n",
       "host_since                     0.002969\n",
       "host_acceptance_rate           0.499676\n",
       "host_is_superhost              0.002969\n",
       "host_neighbourhood             0.334899\n",
       "host_listings_count            0.002969\n",
       "host_has_profile_pic           0.002969\n",
       "host_identity_verified         0.002969\n",
       "neighbourhood_cleansed         0.000000\n",
       "latitude                       0.000000\n",
       "longitude                      0.000000\n",
       "property_type                  0.000000\n",
       "room_type                      0.000000\n",
       "accommodates                   0.000000\n",
       "bedrooms                       0.054746\n",
       "beds                           0.005777\n",
       "price                          0.000000\n",
       "minimum_nights                 0.000000\n",
       "maximum_nights                 0.000000\n",
       "availability_30                0.000000\n",
       "availability_60                0.000000\n",
       "availability_90                0.000000\n",
       "availability_365               0.000000\n",
       "number_of_reviews              0.000000\n",
       "number_of_reviews_ltm          0.000000\n",
       "first_review                   0.128226\n",
       "last_review                    0.128226\n",
       "review_scores_rating           0.141453\n",
       "review_scores_accuracy         0.141993\n",
       "review_scores_cleanliness      0.141993\n",
       "review_scores_checkin          0.142425\n",
       "review_scores_communication    0.142047\n",
       "review_scores_location         0.142317\n",
       "review_scores_value            0.142317\n",
       "instant_bookable               0.000000\n",
       "reviews_per_month              0.128226\n",
       "host_days                      0.002969\n",
       "dtype: float64"
      ]
     },
     "execution_count": 23,
     "metadata": {},
     "output_type": "execute_result"
    }
   ],
   "source": [
    "df.isnull().mean()"
   ]
  },
  {
   "cell_type": "markdown",
   "metadata": {
    "id": "N68iwsebTjgI"
   },
   "source": [
    "I will remove the `host_acceptance_rate`, `host_neighbourhood`, `first_review` and `last_review` columns, as they have a siginificant number of NaN values. "
   ]
  },
  {
   "cell_type": "code",
   "execution_count": 24,
   "metadata": {
    "id": "0vYbdNDhTjgI"
   },
   "outputs": [],
   "source": [
    "# to delete host_acceptance_rate and host_neighbourhood\n",
    "df = drop_cols_na(df,0.3) # threshold=0.3 as both columns have more than 30% of the values as NaNs\n",
    "# delete first_review and last_review\n",
    "df = df.drop(['first_review','last_review'],axis=1)"
   ]
  },
  {
   "cell_type": "markdown",
   "metadata": {
    "id": "uZ54tniCTjgI"
   },
   "source": [
    "Replace missing values in: `review_scores_rating`,`review_scores_accuracy`,`review_scores_cleanliness`,`review_scores_checkin`,`review_scores_communication`, `review_scores_location`, `review_scores_value`,`reviews_per_month`and `host_days`with the mean"
   ]
  },
  {
   "cell_type": "code",
   "execution_count": 25,
   "metadata": {
    "id": "wkAsJux_TjgJ"
   },
   "outputs": [],
   "source": [
    "# imputes the missing values with the mean\n",
    "df=df.fillna(df.mean())"
   ]
  },
  {
   "cell_type": "markdown",
   "metadata": {
    "id": "-0C7fL16TjgJ"
   },
   "source": [
    "Finally remove the remaining rows with NaN values "
   ]
  },
  {
   "cell_type": "code",
   "execution_count": 26,
   "metadata": {
    "id": "kAL1OmOiTjgK"
   },
   "outputs": [],
   "source": [
    "# deletes the rows with missing values in them\n",
    "df = df.dropna(axis=0)"
   ]
  },
  {
   "cell_type": "code",
   "execution_count": 27,
   "metadata": {
    "colab": {
     "base_uri": "https://localhost:8080/"
    },
    "id": "pEP7HJ2kTjgK",
    "outputId": "39b2a389-b13a-4fff-b9ae-7d9a4960321b"
   },
   "outputs": [
    {
     "data": {
      "text/plain": [
       "18434"
      ]
     },
     "execution_count": 27,
     "metadata": {},
     "output_type": "execute_result"
    }
   ],
   "source": [
    "len(df)"
   ]
  },
  {
   "cell_type": "code",
   "execution_count": 28,
   "metadata": {
    "colab": {
     "base_uri": "https://localhost:8080/"
    },
    "id": "D5zzb07uaFmB",
    "outputId": "8f0d8e8a-0a70-4511-f99f-602c3015186a"
   },
   "outputs": [
    {
     "data": {
      "text/plain": [
       "id                             0.0\n",
       "name                           0.0\n",
       "host_id                        0.0\n",
       "host_name                      0.0\n",
       "host_since                     0.0\n",
       "host_is_superhost              0.0\n",
       "host_listings_count            0.0\n",
       "host_has_profile_pic           0.0\n",
       "host_identity_verified         0.0\n",
       "neighbourhood_cleansed         0.0\n",
       "latitude                       0.0\n",
       "longitude                      0.0\n",
       "property_type                  0.0\n",
       "room_type                      0.0\n",
       "accommodates                   0.0\n",
       "bedrooms                       0.0\n",
       "beds                           0.0\n",
       "price                          0.0\n",
       "minimum_nights                 0.0\n",
       "maximum_nights                 0.0\n",
       "availability_30                0.0\n",
       "availability_60                0.0\n",
       "availability_90                0.0\n",
       "availability_365               0.0\n",
       "number_of_reviews              0.0\n",
       "number_of_reviews_ltm          0.0\n",
       "review_scores_rating           0.0\n",
       "review_scores_accuracy         0.0\n",
       "review_scores_cleanliness      0.0\n",
       "review_scores_checkin          0.0\n",
       "review_scores_communication    0.0\n",
       "review_scores_location         0.0\n",
       "review_scores_value            0.0\n",
       "instant_bookable               0.0\n",
       "reviews_per_month              0.0\n",
       "host_days                      0.0\n",
       "dtype: float64"
      ]
     },
     "execution_count": 28,
     "metadata": {},
     "output_type": "execute_result"
    }
   ],
   "source": [
    "df.isnull().mean() #check if missing values have been cleaned"
   ]
  },
  {
   "cell_type": "markdown",
   "metadata": {
    "id": "vXpkH2TzTjgK"
   },
   "source": [
    "### reset index"
   ]
  },
  {
   "cell_type": "code",
   "execution_count": 29,
   "metadata": {
    "id": "-d_HJhPmTjgL"
   },
   "outputs": [],
   "source": [
    "df = df.reset_index(drop=True)"
   ]
  },
  {
   "cell_type": "markdown",
   "metadata": {
    "id": "_a4I7y_FsVI0"
   },
   "source": [
    "## Question 1d: Exploratory analyses"
   ]
  },
  {
   "cell_type": "markdown",
   "metadata": {
    "id": "IcA5tI8ftsFS"
   },
   "source": [
    "Produce a barplot of the average nightly price per neighbourhood as instructed in the Coursework proforma:"
   ]
  },
  {
   "cell_type": "code",
   "execution_count": 30,
   "metadata": {
    "colab": {
     "base_uri": "https://localhost:8080/",
     "height": 513
    },
    "id": "psZPbywKFV27",
    "outputId": "d9e04f1d-77cc-4cea-cf9b-f1e2c13d6010"
   },
   "outputs": [
    {
     "data": {
      "image/png": "[encoded data removed]",
      "text/plain": [
       "<Figure size 576x576 with 1 Axes>"
      ]
     },
     "metadata": {
      "needs_background": "light"
     },
     "output_type": "display_data"
    }
   ],
   "source": [
    "# calculate the mean price of each neighbourhood\n",
    "data = df.groupby('neighbourhood_cleansed')['price'].mean()\n",
    "\n",
    "#plot\n",
    "fig,ax = plt.subplots(figsize=[8,8])\n",
    "ax = sns.barplot(x=data,y=data.index, color='darkorange')\n",
    "ax.set(ylabel=\"Neighbourhood\", xlabel=\"Mean price ($)\",title='Mean nightly price per neighbourhood')\n",
    "plt.show()"
   ]
  },
  {
   "cell_type": "markdown",
   "metadata": {
    "id": "834GVr84yfAA"
   },
   "source": [
    "Plot a correlation matrix as instructed in the Coursework proforma:"
   ]
  },
  {
   "cell_type": "code",
   "execution_count": 31,
   "metadata": {
    "colab": {
     "base_uri": "https://localhost:8080/",
     "height": 655
    },
    "id": "fvS5_JdIFQbG",
    "outputId": "7e6ad970-9852-4c08-c859-92579bb3a842"
   },
   "outputs": [
    {
     "data": {
      "image/png": "[encoded data removed]",
      "text/plain": [
       "<Figure size 576x576 with 2 Axes>"
      ]
     },
     "metadata": {
      "needs_background": "light"
     },
     "output_type": "display_data"
    }
   ],
   "source": [
    "# columns specified in question\n",
    "columns = ['review_scores_cleanliness','review_scores_checkin','review_scores_communication','review_scores_location',\n",
    "          'review_scores_value'] \n",
    "fig,ax = plt.subplots(figsize=[8,8])\n",
    "# calculate pairwise correlations between variables\n",
    "corl = df[columns].corr()\n",
    "ax = sns.heatmap(corl,annot = True, cmap=\"Reds\")\n",
    "ax.set(ylabel=\"Review subitems\", xlabel=\"Review subitems\",title='Correlation matrix between review ratings subitems')\n",
    "plt.show()"
   ]
  },
  {
   "cell_type": "markdown",
   "metadata": {
    "id": "0NouUTozTjgN"
   },
   "source": [
    "Plot a geographical distribution as instructed in the Coursework proforma:"
   ]
  },
  {
   "cell_type": "code",
   "execution_count": 32,
   "metadata": {
    "colab": {
     "base_uri": "https://localhost:8080/",
     "height": 621
    },
    "id": "0hAIgDGATjgN",
    "outputId": "51a1e744-3f1b-44d9-9e36-28b2fc7a075e"
   },
   "outputs": [
    {
     "data": {
      "image/png": "[encoded data removed]",
      "text/plain": [
       "<Figure size 720x720 with 1 Axes>"
      ]
     },
     "metadata": {
      "needs_background": "light"
     },
     "output_type": "display_data"
    }
   ],
   "source": [
    "# create new dataframe with columns needed\n",
    "scatter_df = df[['price','latitude','longitude']]\n",
    "scatter_df = scatter_df[scatter_df['price']>150] # price above 150 per night\n",
    "\n",
    "#group based on price\n",
    "scatter_df['price'] =pd.cut(scatter_df['price'],5)\n",
    "groups = scatter_df.groupby('price')\n",
    "\n",
    "#plot scatter plot\n",
    "fig, ax = plt.subplots(figsize=[10,10])\n",
    "ax.set(ylabel=\"Latitude\", xlabel=\"Longitude\",title='Geographical distribution of nightly prices')\n",
    "for name,group in groups:\n",
    "    ax.scatter(group.longitude, group.latitude, s=12, label=name)\n",
    "    ax.legend()"
   ]
  },
  {
   "cell_type": "markdown",
   "metadata": {
    "id": "0dLbkYk6y9eF"
   },
   "source": [
    "---\n",
    "\n",
    "# Part 2: Statistical analysis and recommender system\n",
    "## CMT 309 Data Science Portfolio\n",
    "\n",
    "Instructions:\n",
    "\n",
    "- Answer the questions by filling in the appropriate sections. \n",
    "- Do not remove or rename section headings or any code that has been provided, unless instructed otherwise.\n",
    "- You can add as many additional cells with code as you like.\n",
    "- Sometimes you are asked to provide an answer or justification. To this end, double-click on the text cells and add your answer/explanation following the text \"YOUR ANSWER:\".\n",
    "\n",
    "Before submitting,\n",
    "\n",
    "- Ensure that the code is clean, readable, and well documented. \n",
    "- Restart the kernel (to wipe all variables) and then run the code from top to bottom to produce all intermediate outputs. "
   ]
  },
  {
   "cell_type": "markdown",
   "metadata": {
    "id": "jtpZraSiE00A"
   },
   "source": [
    "## Question 2a: Linear regression and t-tests\n"
   ]
  },
  {
   "cell_type": "markdown",
   "metadata": {
    "id": "iu0ldC0uTjgO"
   },
   "source": [
    "`review_scores_rating` is the target variable\n",
    "\n",
    "`review_scores_accuracy`, `review_scores_cleanliness`,`review_scores_checkin`, `review_scores_communication`,`review_scores_location`,`review_scores_value` are the features"
   ]
  },
  {
   "cell_type": "code",
   "execution_count": 33,
   "metadata": {
    "id": "8mdax3G1TjgO"
   },
   "outputs": [],
   "source": [
    "#create new df for the linear regression\n",
    "reg_df = df.iloc[:,26:33]\n",
    "\n",
    "#rename columns for convenience\n",
    "reg_df['rating'] = reg_df['review_scores_rating']\n",
    "reg_df['accuracy'] = reg_df['review_scores_accuracy']\n",
    "reg_df['cleanliness'] = reg_df['review_scores_cleanliness']\n",
    "reg_df['checkin'] = reg_df['review_scores_checkin']\n",
    "reg_df['communication'] = reg_df['review_scores_communication']\n",
    "reg_df['location'] = reg_df['review_scores_location']\n",
    "reg_df['value'] = reg_df['review_scores_value']\n",
    "\n",
    "# subset to include just the new column names\n",
    "reg_df = reg_df.iloc[:,7:]"
   ]
  },
  {
   "cell_type": "code",
   "execution_count": 34,
   "metadata": {
    "colab": {
     "base_uri": "https://localhost:8080/"
    },
    "id": "RDCTzGiooPDJ",
    "outputId": "2d1acd69-4b1b-41c4-b67a-d9e277389f07"
   },
   "outputs": [
    {
     "name": "stdout",
     "output_type": "stream",
     "text": [
      "0.5139387105465766\n",
      "0.46825999110807703\n",
      "0.33856885642353984\n",
      "0.4052997363768065\n",
      "0.13428884340012037\n",
      "0.46873454696958616\n"
     ]
    }
   ],
   "source": [
    "print(sm.OLS.from_formula('rating ~ accuracy', reg_df).fit().rsquared)\n",
    "print(sm.OLS.from_formula('rating ~ cleanliness', reg_df).fit().rsquared)\n",
    "print(sm.OLS.from_formula('rating ~ checkin', reg_df).fit().rsquared)\n",
    "print(sm.OLS.from_formula('rating ~ communication', reg_df).fit().rsquared)\n",
    "print(sm.OLS.from_formula('rating ~ location', reg_df).fit().rsquared)\n",
    "print(sm.OLS.from_formula('rating ~ value', reg_df).fit().rsquared)"
   ]
  },
  {
   "cell_type": "markdown",
   "metadata": {
    "id": "sHrlZP_7TjgP"
   },
   "source": [
    "accuracy yields the best r squared"
   ]
  },
  {
   "cell_type": "code",
   "execution_count": 35,
   "metadata": {
    "colab": {
     "base_uri": "https://localhost:8080/"
    },
    "id": "cOh2aXIqTjgP",
    "outputId": "29fb1c04-ec47-4cf1-9fbd-945707f48e1d"
   },
   "outputs": [
    {
     "name": "stdout",
     "output_type": "stream",
     "text": [
      "                            OLS Regression Results                            \n",
      "==============================================================================\n",
      "Dep. Variable:                 rating   R-squared:                       0.723\n",
      "Model:                            OLS   Adj. R-squared:                  0.723\n",
      "Method:                 Least Squares   F-statistic:                     8027.\n",
      "Date:                Thu, 03 Jun 2021   Prob (F-statistic):               0.00\n",
      "Time:                        23:32:45   Log-Likelihood:                -48608.\n",
      "No. Observations:               18434   AIC:                         9.723e+04\n",
      "Df Residuals:                   18427   BIC:                         9.729e+04\n",
      "Df Model:                           6                                         \n",
      "Covariance Type:            nonrobust                                         \n",
      "=================================================================================\n",
      "                    coef    std err          t      P>|t|      [0.025      0.975]\n",
      "---------------------------------------------------------------------------------\n",
      "Intercept        -0.3574      0.515     -0.694      0.487      -1.366       0.651\n",
      "accuracy          2.6081      0.052     49.885      0.000       2.506       2.711\n",
      "cleanliness       2.1508      0.038     56.067      0.000       2.076       2.226\n",
      "checkin           1.0237      0.057     18.035      0.000       0.912       1.135\n",
      "communication     1.8138      0.062     29.268      0.000       1.692       1.935\n",
      "location          0.3870      0.042      9.175      0.000       0.304       0.470\n",
      "value             2.0012      0.044     45.482      0.000       1.915       2.087\n",
      "==============================================================================\n",
      "Omnibus:                     6554.903   Durbin-Watson:                   2.003\n",
      "Prob(Omnibus):                  0.000   Jarque-Bera (JB):           168067.570\n",
      "Skew:                          -1.141   Prob(JB):                         0.00\n",
      "Kurtosis:                      17.615   Cond. No.                         486.\n",
      "==============================================================================\n",
      "\n",
      "Warnings:\n",
      "[1] Standard Errors assume that the covariance matrix of the errors is correctly specified.\n"
     ]
    }
   ],
   "source": [
    "# first fit the model with no interaction terms\n",
    "fit = sm.OLS.from_formula('rating ~ accuracy + cleanliness + checkin + communication + location + value', reg_df).fit()\n",
    "print(fit.summary())"
   ]
  },
  {
   "cell_type": "markdown",
   "metadata": {
    "id": "lRW_PObATjgQ"
   },
   "source": [
    "All terms are siginificant (p-value < 0.05)\n",
    "\n",
    "Fit model with all interaction terms"
   ]
  },
  {
   "cell_type": "code",
   "execution_count": 36,
   "metadata": {
    "colab": {
     "base_uri": "https://localhost:8080/"
    },
    "id": "JcM1XV-xTjgQ",
    "outputId": "6f6a2bd6-2183-4123-a9d6-38032125c7c8"
   },
   "outputs": [
    {
     "name": "stdout",
     "output_type": "stream",
     "text": [
      "                            OLS Regression Results                            \n",
      "==============================================================================\n",
      "Dep. Variable:                 rating   R-squared:                       0.732\n",
      "Model:                            OLS   Adj. R-squared:                  0.731\n",
      "Method:                 Least Squares   F-statistic:                     2391.\n",
      "Date:                Thu, 03 Jun 2021   Prob (F-statistic):               0.00\n",
      "Time:                        23:32:45   Log-Likelihood:                -48324.\n",
      "No. Observations:               18434   AIC:                         9.669e+04\n",
      "Df Residuals:                   18412   BIC:                         9.686e+04\n",
      "Df Model:                          21                                         \n",
      "Covariance Type:            nonrobust                                         \n",
      "=============================================================================================\n",
      "                                coef    std err          t      P>|t|      [0.025      0.975]\n",
      "---------------------------------------------------------------------------------------------\n",
      "Intercept                     1.4053      1.759      0.799      0.424      -2.043       4.854\n",
      "accuracy                      1.0673      0.463      2.305      0.021       0.160       1.975\n",
      "cleanliness                   1.1807      0.377      3.129      0.002       0.441       1.920\n",
      "checkin                       0.7355      0.406      1.810      0.070      -0.061       1.532\n",
      "communication                 3.4631      0.439      7.894      0.000       2.603       4.323\n",
      "location                     -0.5687      0.304     -1.871      0.061      -1.165       0.027\n",
      "value                         4.1411      0.496      8.341      0.000       3.168       5.114\n",
      "accuracy:cleanliness          0.0695      0.030      2.318      0.020       0.011       0.128\n",
      "accuracy:checkin              0.1882      0.048      3.919      0.000       0.094       0.282\n",
      "accuracy:communication        0.1357      0.044      3.096      0.002       0.050       0.222\n",
      "accuracy:location            -0.0520      0.044     -1.174      0.240      -0.139       0.035\n",
      "accuracy:value               -0.1994      0.036     -5.604      0.000      -0.269      -0.130\n",
      "cleanliness:checkin           0.2704      0.042      6.476      0.000       0.189       0.352\n",
      "cleanliness:communication    -0.0017      0.039     -0.042      0.966      -0.079       0.075\n",
      "cleanliness:location          0.1009      0.038      2.682      0.007       0.027       0.175\n",
      "cleanliness:value            -0.3739      0.029    -13.052      0.000      -0.430      -0.318\n",
      "checkin:communication        -0.4220      0.036    -11.640      0.000      -0.493      -0.351\n",
      "checkin:location             -0.1347      0.046     -2.913      0.004      -0.225      -0.044\n",
      "checkin:value                 0.1473      0.052      2.853      0.004       0.046       0.248\n",
      "communication:location        0.0708      0.046      1.551      0.121      -0.019       0.160\n",
      "communication:value           0.0384      0.050      0.774      0.439      -0.059       0.136\n",
      "location:value                0.1397      0.042      3.361      0.001       0.058       0.221\n",
      "==============================================================================\n",
      "Omnibus:                     5816.695   Durbin-Watson:                   1.994\n",
      "Prob(Omnibus):                  0.000   Jarque-Bera (JB):           126569.992\n",
      "Skew:                          -0.997   Prob(JB):                         0.00\n",
      "Kurtosis:                      15.681   Cond. No.                     2.59e+04\n",
      "==============================================================================\n",
      "\n",
      "Warnings:\n",
      "[1] Standard Errors assume that the covariance matrix of the errors is correctly specified.\n",
      "[2] The condition number is large, 2.59e+04. This might indicate that there are\n",
      "strong multicollinearity or other numerical problems.\n"
     ]
    }
   ],
   "source": [
    "fit = sm.OLS.from_formula('rating ~ accuracy + cleanliness + checkin + communication + location + value + accuracy * cleanliness + accuracy * checkin + accuracy * communication + accuracy * location + accuracy * value + cleanliness * checkin + cleanliness * communication + cleanliness * location + cleanliness * value + checkin * communication + checkin * location + checkin * value + communication * location + communication * value + location * value', reg_df).fit()\n",
    "print(fit.summary())"
   ]
  },
  {
   "cell_type": "markdown",
   "metadata": {},
   "source": [
    "`cleanliness:communication`, `communication:value`,`communication:location`,`accuracy:location`,`checkin` and `location` are \n",
    "not significant."
   ]
  },
  {
   "cell_type": "markdown",
   "metadata": {
    "id": "i9Lalo7srWMr"
   },
   "source": [
    "**T-test questions**:\n",
    "\n",
    "Which room types are significantly different in terms of nightly price?\n",
    "\n",
    "YOUR ANSWER (1-2 sentences): \n",
    "\n",
    "At the significance level of alpha = 0.01 the t test suggests:\n",
    "* Private room and Entire home/apt are significantly different, with a t-statistic=-25.14 and p-value=0.00\n",
    "* Private room and hotel room are significantly different, with a t-statistic=-10.53 and p-value=0.00\n",
    "* Entire home/apt and Shared room are significantly different, with a t-statistic=3.07 and p-value=0.00\n",
    "\n",
    "\n",
    "Do the significances change if you perform Bonferroni correction to the alpha level: https://en.wikipedia.org/wiki/Bonferroni_correction ?\n",
    "\n",
    "YOUR ANSWER (1-2 sentences): \n",
    "\n",
    "Yes, Entire home/apt and Shared room changes with the Bonferroni correction. We no longer can reject the null hypothesis,\n",
    "and conclude that the mean nightly price between entire home/apt and shared room are not significantly different.\n"
   ]
  },
  {
   "cell_type": "code",
   "execution_count": 37,
   "metadata": {
    "colab": {
     "base_uri": "https://localhost:8080/"
    },
    "id": "xXd9kW55TjgR",
    "outputId": "ad580e49-17e7-4118-fe7b-27c6835f68d0"
   },
   "outputs": [
    {
     "data": {
      "text/plain": [
       "array(['Private room', 'Entire home/apt', 'Hotel room', 'Shared room'],\n",
       "      dtype=object)"
      ]
     },
     "execution_count": 37,
     "metadata": {},
     "output_type": "execute_result"
    }
   ],
   "source": [
    "df['room_type'].unique() # find the different types of room"
   ]
  },
  {
   "cell_type": "code",
   "execution_count": 38,
   "metadata": {
    "colab": {
     "base_uri": "https://localhost:8080/"
    },
    "id": "1gk4SDcE26Qq",
    "outputId": "61efcc30-f29e-4d41-db58-09951cfc67c3"
   },
   "outputs": [
    {
     "name": "stdout",
     "output_type": "stream",
     "text": [
      "Private room price mean: 93.74\n",
      "Entire home/apt price mean: 170.77\n",
      "Hotel room price mean: 131.75\n",
      "Shared room price mean: 105.00\n"
     ]
    }
   ],
   "source": [
    "df_pr = df[df.room_type=='Private room']['price']\n",
    "df_eh = df[df.room_type=='Entire home/apt']['price']\n",
    "df_hr = df[df.room_type=='Hotel room']['price']\n",
    "df_sr = df[df.room_type=='Shared room']['price']\n",
    "\n",
    "# calculate the mean price for each room type\n",
    "print('Private room price mean: {:.2f}'.format(df_pr.mean()))\n",
    "print('Entire home/apt price mean: {:.2f}'.format(df_eh.mean()))\n",
    "print('Hotel room price mean: {:.2f}'.format(df_hr.mean()))\n",
    "print('Shared room price mean: {:.2f}'.format(df_sr.mean()))\n"
   ]
  },
  {
   "cell_type": "code",
   "execution_count": 39,
   "metadata": {
    "id": "pGtIGM9YTjgS"
   },
   "outputs": [
    {
     "name": "stdout",
     "output_type": "stream",
     "text": [
      "Private room and Entire home/apt: t-statistic: -29.21, p-value: 0.000\n",
      "Private room and hotel room: t-statistic: -4.01, p-value: 0.000\n",
      "Private room and Shared room: t-statistic: -0.75, p-value: 0.453\n",
      "Entire home/apt and hotel room: t-statistic: 2.98, p-value: 0.003\n",
      "Entire home/apt and Shared room: t-statistic: 3.06, p-value: 0.002\n",
      "Shared room and hotel room: t-statistic: -1.01, p-value: 0.312\n"
     ]
    }
   ],
   "source": [
    "pr_eh = ttest_ind(df_pr, df_eh) # t test\n",
    "#print the t statistic and p-value\n",
    "print('Private room and Entire home/apt: t-statistic: {:.2f}, p-value: {:.3f}'.format(pr_eh.statistic,pr_eh.pvalue))\n",
    "\n",
    "pr_hr = ttest_ind(df_pr, df_hr)\n",
    "print('Private room and hotel room: t-statistic: {:.2f}, p-value: {:.3f}'.format(pr_hr.statistic,pr_hr.pvalue))\n",
    "\n",
    "pr_sr = ttest_ind(df_pr, df_sr)\n",
    "print('Private room and Shared room: t-statistic: {:.2f}, p-value: {:.3f}'.format(pr_sr.statistic,pr_sr.pvalue))\n",
    "\n",
    "eh_hr = ttest_ind(df_eh, df_hr)\n",
    "print('Entire home/apt and hotel room: t-statistic: {:.2f}, p-value: {:.3f}'.format(eh_hr.statistic,eh_hr.pvalue))\n",
    "\n",
    "eh_sr = ttest_ind(df_eh, df_sr)\n",
    "print('Entire home/apt and Shared room: t-statistic: {:.2f}, p-value: {:.3f}'.format(eh_sr.statistic,eh_sr.pvalue))\n",
    "\n",
    "sr_hr = ttest_ind(df_sr, df_hr)\n",
    "print('Shared room and hotel room: t-statistic: {:.2f}, p-value: {:.3f}'.format(sr_hr.statistic,sr_hr.pvalue))"
   ]
  },
  {
   "cell_type": "code",
   "execution_count": 40,
   "metadata": {},
   "outputs": [
    {
     "name": "stdout",
     "output_type": "stream",
     "text": [
      "(array([ True,  True, False, False, False, False, False, False, False,\n",
      "       False]), array([2.35052398e-182, 6.13332607e-004, 1.00000000e+000, 2.91355408e-002,\n",
      "       2.18946205e-002, 1.00000000e+000, 1.00000000e+000, 1.00000000e+000,\n",
      "       1.00000000e+000, 1.00000000e+000]), 0.0010045287082499632, 0.001)\n"
     ]
    }
   ],
   "source": [
    "pr_pr = ttest_ind(df_pr, df_pr)\n",
    "eh_eh = ttest_ind(df_eh, df_eh)\n",
    "hr_hr = ttest_ind(df_hr, df_hr)\n",
    "sr_sr = ttest_ind(df_sr, df_sr)\n",
    "\n",
    "\n",
    "pvalues = [pr_eh.pvalue,pr_hr.pvalue,pr_sr.pvalue,eh_hr.pvalue,eh_sr.pvalue,sr_hr.pvalue,pr_pr.pvalue,eh_eh.pvalue,\n",
    "          hr_hr.pvalue,sr_sr.pvalue]\n",
    "# bonferroni correction applied to all p-values\n",
    "bon = multi.multipletests(pvalues,alpha=0.01,method='bonferroni')\n",
    "print(bon)"
   ]
  },
  {
   "cell_type": "code",
   "execution_count": 42,
   "metadata": {
    "id": "N87AGwG3TjgU"
   },
   "outputs": [
    {
     "data": {
      "text/html": [
       "<div>\n",
       "<style scoped>\n",
       "    .dataframe tbody tr th:only-of-type {\n",
       "        vertical-align: middle;\n",
       "    }\n",
       "\n",
       "    .dataframe tbody tr th {\n",
       "        vertical-align: top;\n",
       "    }\n",
       "\n",
       "    .dataframe thead th {\n",
       "        text-align: right;\n",
       "    }\n",
       "</style>\n",
       "<table border=\"1\" class=\"dataframe\">\n",
       "  <thead>\n",
       "    <tr style=\"text-align: right;\">\n",
       "      <th></th>\n",
       "      <th>Private room</th>\n",
       "      <th>Entire home/apt</th>\n",
       "      <th>Hotel room</th>\n",
       "      <th>Shared room</th>\n",
       "    </tr>\n",
       "  </thead>\n",
       "  <tbody>\n",
       "    <tr>\n",
       "      <th>Private room</th>\n",
       "      <td>1.0</td>\n",
       "      <td>0.00</td>\n",
       "      <td>0.00</td>\n",
       "      <td>1.00</td>\n",
       "    </tr>\n",
       "    <tr>\n",
       "      <th>Entire home/apt</th>\n",
       "      <td>0.0</td>\n",
       "      <td>1.00</td>\n",
       "      <td>0.03</td>\n",
       "      <td>0.02</td>\n",
       "    </tr>\n",
       "    <tr>\n",
       "      <th>Hotel room</th>\n",
       "      <td>0.0</td>\n",
       "      <td>0.03</td>\n",
       "      <td>1.00</td>\n",
       "      <td>1.00</td>\n",
       "    </tr>\n",
       "    <tr>\n",
       "      <th>Shared room</th>\n",
       "      <td>1.0</td>\n",
       "      <td>0.02</td>\n",
       "      <td>1.00</td>\n",
       "      <td>1.00</td>\n",
       "    </tr>\n",
       "  </tbody>\n",
       "</table>\n",
       "</div>"
      ],
      "text/plain": [
       "                 Private room  Entire home/apt  Hotel room  Shared room\n",
       "Private room              1.0             0.00        0.00         1.00\n",
       "Entire home/apt           0.0             1.00        0.03         0.02\n",
       "Hotel room                0.0             0.03        1.00         1.00\n",
       "Shared room               1.0             0.02        1.00         1.00"
      ]
     },
     "execution_count": 42,
     "metadata": {},
     "output_type": "execute_result"
    }
   ],
   "source": [
    "rooms = df['room_type'].unique()\n",
    "\n",
    "#private room\n",
    "private = [bon[1][5],bon[1][0],bon[1][1],bon[1][2]]\n",
    "#round the numbers\n",
    "private = [round(num, 2) for num in private]\n",
    "\n",
    "#home room\n",
    "home = [bon[1][0],bon[1][6],bon[1][3],bon[1][4]]\n",
    "#round the numbers\n",
    "home = [round(num, 2) for num in home]\n",
    "\n",
    "# hotel room\n",
    "hotel = [bon[1][1],bon[1][3],bon[1][7],bon[1][5]]\n",
    "#round the numbers\n",
    "hotel = [round(num, 2) for num in hotel]\n",
    "\n",
    "# shared room\n",
    "shared = [bon[1][2],bon[1][4],bon[1][5],bon[1][8]]\n",
    "#round the numbers\n",
    "shared = [round(num, 2) for num in shared]\n",
    "\n",
    "pd.DataFrame([private,home,hotel,shared],columns=rooms,index=rooms)"
   ]
  },
  {
   "cell_type": "markdown",
   "metadata": {
    "id": "t8mwnrOhboSC"
   },
   "source": [
    "## Question 2b: Linear regression with variable selection"
   ]
  },
  {
   "cell_type": "markdown",
   "metadata": {
    "id": "Z5aMn9YWrNnI"
   },
   "source": [
    "Provide a short justification (2-3 sentences) for your choice of variables.\n",
    "\n",
    "YOUR ANSWER: \n",
    "\n",
    "Removed `id`, `name`, `host_id` and `host_name` as they significant predictors {check}\n",
    "\n",
    "Removed `host_since` as `host_days` is `host_since` preprocessed \n",
    "\n",
    "Removed `neighbourhood_cleansed` and `property_type` to avoid overfitting."
   ]
  },
  {
   "cell_type": "code",
   "execution_count": 43,
   "metadata": {
    "id": "R0485vGoTjgV"
   },
   "outputs": [],
   "source": [
    "linear_df = df"
   ]
  },
  {
   "cell_type": "code",
   "execution_count": 44,
   "metadata": {
    "id": "i54LKHc0TjgV"
   },
   "outputs": [
    {
     "data": {
      "text/plain": [
       "Index(['id', 'name', 'host_id', 'host_name', 'host_since', 'host_is_superhost',\n",
       "       'host_listings_count', 'host_has_profile_pic', 'host_identity_verified',\n",
       "       'neighbourhood_cleansed', 'latitude', 'longitude', 'property_type',\n",
       "       'room_type', 'accommodates', 'bedrooms', 'beds', 'price',\n",
       "       'minimum_nights', 'maximum_nights', 'availability_30',\n",
       "       'availability_60', 'availability_90', 'availability_365',\n",
       "       'number_of_reviews', 'number_of_reviews_ltm', 'review_scores_rating',\n",
       "       'review_scores_accuracy', 'review_scores_cleanliness',\n",
       "       'review_scores_checkin', 'review_scores_communication',\n",
       "       'review_scores_location', 'review_scores_value', 'instant_bookable',\n",
       "       'reviews_per_month', 'host_days'],\n",
       "      dtype='object')"
      ]
     },
     "execution_count": 44,
     "metadata": {},
     "output_type": "execute_result"
    }
   ],
   "source": [
    "linear_df.columns"
   ]
  },
  {
   "cell_type": "markdown",
   "metadata": {
    "id": "7BnTF46TTjgW"
   },
   "source": [
    "Remove `id`, `name`, `host_id`, `host_name`, `host_since` as they are not useful."
   ]
  },
  {
   "cell_type": "code",
   "execution_count": 45,
   "metadata": {
    "id": "c4TPGZrTTjgW"
   },
   "outputs": [],
   "source": [
    "linear_df =linear_df.iloc[:,5:]"
   ]
  },
  {
   "cell_type": "markdown",
   "metadata": {},
   "source": [
    "drop `neighbourhood_cleansed` and `property_type`"
   ]
  },
  {
   "cell_type": "code",
   "execution_count": 46,
   "metadata": {},
   "outputs": [],
   "source": [
    "linear_df = linear_df.drop(['neighbourhood_cleansed','property_type'], axis=1)"
   ]
  },
  {
   "cell_type": "markdown",
   "metadata": {
    "id": "6c__W86sTjgW"
   },
   "source": [
    "`room_type` needs to be dummied."
   ]
  },
  {
   "cell_type": "code",
   "execution_count": 47,
   "metadata": {
    "id": "FHE0yWIsTjgX"
   },
   "outputs": [],
   "source": [
    "# convert room type to dummy variable\n",
    "linear_df = pd.get_dummies(linear_df,columns=['room_type'])\n",
    "#rename columns\n",
    "linear_df = linear_df.rename(columns={'room_type_Entire home/apt':'room_type_entire_home_apt','room_type_Hotel room':'room_type_hotel_room',\n",
    "                  'room_type_Private room':'room_type_private_room','room_type_Shared room':'room_type_shared_room'})\n",
    "\n",
    "# remove one variable so we have n-1 variables to avoid multicollinearity \n",
    "linear_df = linear_df.iloc[:,:33]"
   ]
  },
  {
   "cell_type": "code",
   "execution_count": 48,
   "metadata": {
    "id": "FZ3qsCk-TjgY"
   },
   "outputs": [],
   "source": [
    "def variable_selection(df, target,alpha):\n",
    "    \"\"\"\n",
    "    Function which selects the best variables for linear regression. There are\n",
    "    two steps:\n",
    "    First step is to build a model by adding variables one after the other. \n",
    "    Only variables that increase the adjusted R^2 coefficient will be added\n",
    "    to the model\n",
    "    Second step takes the model created in step one and the coefficients \n",
    "    which have p-values larger than the alpha level will be removed from the \n",
    "    model\n",
    "\n",
    "    Parameters:\n",
    "    -----------\n",
    "    df: pandas.DataFrame\n",
    "      Airbnb dataframe, with target and features included\n",
    "\n",
    "    target: string\n",
    "      target variable for the regression\n",
    "\n",
    "    alpha: float\n",
    "      Chosen significance (alpha) level \n",
    "\n",
    "    Returns:\n",
    "    --------\n",
    "    model: Model instance\n",
    "      an \"optimal\" fitted statsmodels linear model with an intercept \n",
    "      selected by forward selection evaluated by adjusted R-squared and with \n",
    "      coefficients that have p-values lower the the significance (alpha) level\n",
    "    \"\"\"\n",
    "    # column names as a set\n",
    "    remaining = set(df.columns)\n",
    "    # remove target column name from remaining\n",
    "    remaining.remove(target)\n",
    "    selected = [] # selected predictors\n",
    "    current_score, best_new_score = 0.0, 0.0\n",
    "    # while loop to run until the score does not improve\n",
    "    while remaining and current_score == best_new_score:\n",
    "        scores_with_candidates = []\n",
    "        # loop through the remaining predictors \n",
    "        for candidate in remaining:\n",
    "          # formula to use in regression\n",
    "            formula = \"{} ~ {} + 1\".format(target,\n",
    "                                           ' + '.join(selected + [candidate]))\n",
    "            # fit model and calculate adjusted R squared\n",
    "            score = smf.ols(formula, df).fit().rsquared_adj\n",
    "            # add adj R squared to the list\n",
    "            scores_with_candidates.append((score, candidate))\n",
    "        # sort the list in ascending order\n",
    "        scores_with_candidates.sort()\n",
    "        # assigns the last item in the list\n",
    "        best_new_score, best_candidate = scores_with_candidates.pop() \n",
    "        # if the current score is less than the best score\n",
    "        # add the predictor to another list\n",
    "        if current_score < best_new_score:\n",
    "            remaining.remove(best_candidate)\n",
    "            selected.append(best_candidate)\n",
    "            current_score = best_new_score\n",
    "    # formula with the predictors which improve the adjusted R squared value\n",
    "    formula = \"{} ~ {} + 1\".format(target,\n",
    "                                   ' + '.join(selected))\n",
    "    model = smf.ols(formula, df).fit()\n",
    "    #second step remove values with pvalues higher than alpha level\n",
    "    while True:\n",
    "        pvalues = model.pvalues\n",
    "        #find largest p value\n",
    "        max_pvalue = max(pvalues)\n",
    "        # if the p value is larger than the significance level of alpha =0.05\n",
    "        if max_pvalue > alpha:\n",
    "            index = [i for i, x in enumerate(pvalues) if x == max_pvalue]\n",
    "            # remove variable from list of predictors \n",
    "            del selected[index[0]-1]\n",
    "\n",
    "            # refits the model\n",
    "            formula = \"{} ~ {} + 1\".format(target,\n",
    "                                   ' + '.join(selected))\n",
    "            model = smf.ols(formula, df).fit()\n",
    "        # when all pvalues are below alpha level\n",
    "        else: \n",
    "            break\n",
    "     \n",
    "    return model"
   ]
  },
  {
   "cell_type": "code",
   "execution_count": 49,
   "metadata": {
    "id": "nSKoSKGETjgZ"
   },
   "outputs": [
    {
     "data": {
      "text/html": [
       "<table class=\"simpletable\">\n",
       "<caption>OLS Regression Results</caption>\n",
       "<tr>\n",
       "  <th>Dep. Variable:</th>          <td>price</td>      <th>  R-squared:         </th>  <td>   0.155</td>  \n",
       "</tr>\n",
       "<tr>\n",
       "  <th>Model:</th>                   <td>OLS</td>       <th>  Adj. R-squared:    </th>  <td>   0.154</td>  \n",
       "</tr>\n",
       "<tr>\n",
       "  <th>Method:</th>             <td>Least Squares</td>  <th>  F-statistic:       </th>  <td>   188.0</td>  \n",
       "</tr>\n",
       "<tr>\n",
       "  <th>Date:</th>             <td>Thu, 03 Jun 2021</td> <th>  Prob (F-statistic):</th>   <td>  0.00</td>   \n",
       "</tr>\n",
       "<tr>\n",
       "  <th>Time:</th>                 <td>23:32:57</td>     <th>  Log-Likelihood:    </th> <td>-1.1689e+05</td>\n",
       "</tr>\n",
       "<tr>\n",
       "  <th>No. Observations:</th>      <td> 18434</td>      <th>  AIC:               </th>  <td>2.338e+05</td> \n",
       "</tr>\n",
       "<tr>\n",
       "  <th>Df Residuals:</th>          <td> 18415</td>      <th>  BIC:               </th>  <td>2.340e+05</td> \n",
       "</tr>\n",
       "<tr>\n",
       "  <th>Df Model:</th>              <td>    18</td>      <th>                     </th>      <td> </td>     \n",
       "</tr>\n",
       "<tr>\n",
       "  <th>Covariance Type:</th>      <td>nonrobust</td>    <th>                     </th>      <td> </td>     \n",
       "</tr>\n",
       "</table>\n",
       "<table class=\"simpletable\">\n",
       "<tr>\n",
       "               <td></td>                  <th>coef</th>     <th>std err</th>      <th>t</th>      <th>P>|t|</th>  <th>[0.025</th>    <th>0.975]</th>  \n",
       "</tr>\n",
       "<tr>\n",
       "  <th>Intercept</th>                   <td> 6987.1689</td> <td> 3209.456</td> <td>    2.177</td> <td> 0.029</td> <td>  696.337</td> <td> 1.33e+04</td>\n",
       "</tr>\n",
       "<tr>\n",
       "  <th>accommodates</th>                <td>   29.1862</td> <td>    1.109</td> <td>   26.311</td> <td> 0.000</td> <td>   27.012</td> <td>   31.360</td>\n",
       "</tr>\n",
       "<tr>\n",
       "  <th>room_type_private_room</th>      <td>  -21.3190</td> <td>   10.231</td> <td>   -2.084</td> <td> 0.037</td> <td>  -41.373</td> <td>   -1.265</td>\n",
       "</tr>\n",
       "<tr>\n",
       "  <th>availability_365</th>            <td>    0.0770</td> <td>    0.014</td> <td>    5.611</td> <td> 0.000</td> <td>    0.050</td> <td>    0.104</td>\n",
       "</tr>\n",
       "<tr>\n",
       "  <th>review_scores_location</th>      <td>   18.3730</td> <td>    1.725</td> <td>   10.650</td> <td> 0.000</td> <td>   14.992</td> <td>   21.754</td>\n",
       "</tr>\n",
       "<tr>\n",
       "  <th>number_of_reviews_ltm</th>       <td>   -0.8673</td> <td>    0.152</td> <td>   -5.695</td> <td> 0.000</td> <td>   -1.166</td> <td>   -0.569</td>\n",
       "</tr>\n",
       "<tr>\n",
       "  <th>bedrooms</th>                    <td>   11.0707</td> <td>    1.522</td> <td>    7.273</td> <td> 0.000</td> <td>    8.087</td> <td>   14.054</td>\n",
       "</tr>\n",
       "<tr>\n",
       "  <th>host_listings_count</th>         <td>    0.3896</td> <td>    0.073</td> <td>    5.323</td> <td> 0.000</td> <td>    0.246</td> <td>    0.533</td>\n",
       "</tr>\n",
       "<tr>\n",
       "  <th>minimum_nights</th>              <td>    0.3995</td> <td>    0.071</td> <td>    5.592</td> <td> 0.000</td> <td>    0.260</td> <td>    0.540</td>\n",
       "</tr>\n",
       "<tr>\n",
       "  <th>availability_30</th>             <td>    0.7191</td> <td>    0.151</td> <td>    4.772</td> <td> 0.000</td> <td>    0.424</td> <td>    1.014</td>\n",
       "</tr>\n",
       "<tr>\n",
       "  <th>review_scores_value</th>         <td>  -10.6969</td> <td>    1.881</td> <td>   -5.688</td> <td> 0.000</td> <td>  -14.383</td> <td>   -7.011</td>\n",
       "</tr>\n",
       "<tr>\n",
       "  <th>review_scores_cleanliness</th>   <td>    4.7369</td> <td>    1.681</td> <td>    2.817</td> <td> 0.005</td> <td>    1.441</td> <td>    8.032</td>\n",
       "</tr>\n",
       "<tr>\n",
       "  <th>number_of_reviews</th>           <td>   -0.0757</td> <td>    0.024</td> <td>   -3.141</td> <td> 0.002</td> <td>   -0.123</td> <td>   -0.028</td>\n",
       "</tr>\n",
       "<tr>\n",
       "  <th>room_type_entire_home_apt</th>   <td>   29.4214</td> <td>   10.197</td> <td>    2.885</td> <td> 0.004</td> <td>    9.433</td> <td>   49.409</td>\n",
       "</tr>\n",
       "<tr>\n",
       "  <th>review_scores_communication</th> <td>   -7.3900</td> <td>    2.310</td> <td>   -3.199</td> <td> 0.001</td> <td>  -11.918</td> <td>   -2.862</td>\n",
       "</tr>\n",
       "<tr>\n",
       "  <th>review_scores_rating</th>        <td>    0.7696</td> <td>    0.278</td> <td>    2.766</td> <td> 0.006</td> <td>    0.224</td> <td>    1.315</td>\n",
       "</tr>\n",
       "<tr>\n",
       "  <th>instant_bookable</th>            <td>    6.9290</td> <td>    2.505</td> <td>    2.766</td> <td> 0.006</td> <td>    2.019</td> <td>   11.839</td>\n",
       "</tr>\n",
       "<tr>\n",
       "  <th>host_days</th>                   <td>    0.0035</td> <td>    0.001</td> <td>    2.507</td> <td> 0.012</td> <td>    0.001</td> <td>    0.006</td>\n",
       "</tr>\n",
       "<tr>\n",
       "  <th>latitude</th>                    <td> -135.3908</td> <td>   61.291</td> <td>   -2.209</td> <td> 0.027</td> <td> -255.527</td> <td>  -15.255</td>\n",
       "</tr>\n",
       "</table>\n",
       "<table class=\"simpletable\">\n",
       "<tr>\n",
       "  <th>Omnibus:</th>       <td>46311.817</td> <th>  Durbin-Watson:     </th>    <td>   1.971</td>   \n",
       "</tr>\n",
       "<tr>\n",
       "  <th>Prob(Omnibus):</th>  <td> 0.000</td>   <th>  Jarque-Bera (JB):  </th> <td>1349009983.528</td>\n",
       "</tr>\n",
       "<tr>\n",
       "  <th>Skew:</th>           <td>27.417</td>   <th>  Prob(JB):          </th>    <td>    0.00</td>   \n",
       "</tr>\n",
       "<tr>\n",
       "  <th>Kurtosis:</th>      <td>1327.132</td>  <th>  Cond. No.          </th>    <td>7.46e+06</td>   \n",
       "</tr>\n",
       "</table><br/><br/>Warnings:<br/>[1] Standard Errors assume that the covariance matrix of the errors is correctly specified.<br/>[2] The condition number is large, 7.46e+06. This might indicate that there are<br/>strong multicollinearity or other numerical problems."
      ],
      "text/plain": [
       "<class 'statsmodels.iolib.summary.Summary'>\n",
       "\"\"\"\n",
       "                            OLS Regression Results                            \n",
       "==============================================================================\n",
       "Dep. Variable:                  price   R-squared:                       0.155\n",
       "Model:                            OLS   Adj. R-squared:                  0.154\n",
       "Method:                 Least Squares   F-statistic:                     188.0\n",
       "Date:                Thu, 03 Jun 2021   Prob (F-statistic):               0.00\n",
       "Time:                        23:32:57   Log-Likelihood:            -1.1689e+05\n",
       "No. Observations:               18434   AIC:                         2.338e+05\n",
       "Df Residuals:                   18415   BIC:                         2.340e+05\n",
       "Df Model:                          18                                         \n",
       "Covariance Type:            nonrobust                                         \n",
       "===============================================================================================\n",
       "                                  coef    std err          t      P>|t|      [0.025      0.975]\n",
       "-----------------------------------------------------------------------------------------------\n",
       "Intercept                    6987.1689   3209.456      2.177      0.029     696.337    1.33e+04\n",
       "accommodates                   29.1862      1.109     26.311      0.000      27.012      31.360\n",
       "room_type_private_room        -21.3190     10.231     -2.084      0.037     -41.373      -1.265\n",
       "availability_365                0.0770      0.014      5.611      0.000       0.050       0.104\n",
       "review_scores_location         18.3730      1.725     10.650      0.000      14.992      21.754\n",
       "number_of_reviews_ltm          -0.8673      0.152     -5.695      0.000      -1.166      -0.569\n",
       "bedrooms                       11.0707      1.522      7.273      0.000       8.087      14.054\n",
       "host_listings_count             0.3896      0.073      5.323      0.000       0.246       0.533\n",
       "minimum_nights                  0.3995      0.071      5.592      0.000       0.260       0.540\n",
       "availability_30                 0.7191      0.151      4.772      0.000       0.424       1.014\n",
       "review_scores_value           -10.6969      1.881     -5.688      0.000     -14.383      -7.011\n",
       "review_scores_cleanliness       4.7369      1.681      2.817      0.005       1.441       8.032\n",
       "number_of_reviews              -0.0757      0.024     -3.141      0.002      -0.123      -0.028\n",
       "room_type_entire_home_apt      29.4214     10.197      2.885      0.004       9.433      49.409\n",
       "review_scores_communication    -7.3900      2.310     -3.199      0.001     -11.918      -2.862\n",
       "review_scores_rating            0.7696      0.278      2.766      0.006       0.224       1.315\n",
       "instant_bookable                6.9290      2.505      2.766      0.006       2.019      11.839\n",
       "host_days                       0.0035      0.001      2.507      0.012       0.001       0.006\n",
       "latitude                     -135.3908     61.291     -2.209      0.027    -255.527     -15.255\n",
       "==============================================================================\n",
       "Omnibus:                    46311.817   Durbin-Watson:                   1.971\n",
       "Prob(Omnibus):                  0.000   Jarque-Bera (JB):       1349009983.528\n",
       "Skew:                          27.417   Prob(JB):                         0.00\n",
       "Kurtosis:                    1327.132   Cond. No.                     7.46e+06\n",
       "==============================================================================\n",
       "\n",
       "Warnings:\n",
       "[1] Standard Errors assume that the covariance matrix of the errors is correctly specified.\n",
       "[2] The condition number is large, 7.46e+06. This might indicate that there are\n",
       "strong multicollinearity or other numerical problems.\n",
       "\"\"\""
      ]
     },
     "execution_count": 49,
     "metadata": {},
     "output_type": "execute_result"
    }
   ],
   "source": [
    "model = variable_selection(linear_df,'price',0.05)\n",
    "model.summary()"
   ]
  },
  {
   "cell_type": "markdown",
   "metadata": {
    "id": "lzz5uexvkgil"
   },
   "source": [
    "## Question 2c: Recommendation systems"
   ]
  },
  {
   "cell_type": "markdown",
   "metadata": {
    "id": "uW-LealN0kOU"
   },
   "source": [
    "### Recommend a neighbourhood given a budget"
   ]
  },
  {
   "cell_type": "code",
   "execution_count": 50,
   "metadata": {
    "id": "DqUlxeDk4Hww"
   },
   "outputs": [],
   "source": [
    "def recommend_neighbourhood(df,budget_min,budget_max,relative):\n",
    "    '''\n",
    "    Function which recommends which neighbourhood best fits the budget \n",
    "    requirements. Recommends the neighbourhood based on absolute or relative\n",
    "    number of listings in the neighbourhood\n",
    "\n",
    "    Parameters:\n",
    "    -----------\n",
    "    df: pandas.DataFrame\n",
    "      Airbnb dataframe\n",
    "\n",
    "    budget_min: float\n",
    "      minimum budget requirement \n",
    "\n",
    "    budget_max: float\n",
    "      maximum budget requirement\n",
    "\n",
    "    relative: boolean\n",
    "      relative = True - returns the neighbourhod with the highest relative\n",
    "      number of listings in the neighbourhood for the budget requirements\n",
    "      relative = False - returns the neighbourhood with the highest absolute\n",
    "      number of listings in the neighbourhood for the budget requirements\n",
    "\n",
    "    Returns:\n",
    "    --------\n",
    "    result: string\n",
    "      the recommended neighbourhood\n",
    "      \n",
    "    '''\n",
    "    # relative equals absolute \n",
    "    if relative == False:\n",
    "\n",
    "        absol= df[df['price'] >= budget_min]\n",
    "        absol = absol[absol['price'] <= budget_max]['neighbourhood_cleansed']\n",
    "        result = absol.value_counts().index[0]\n",
    "        \n",
    "    # find the relative number\n",
    "    else:\n",
    "        rel= df[df['price'] >= budget_min]\n",
    "        rel = rel[rel['price'] <= budget_max]['neighbourhood_cleansed']\n",
    "\n",
    "        relative_count= rel.value_counts()\n",
    "        total_count = df['neighbourhood_cleansed'].value_counts()\n",
    "\n",
    "        # create data frames\n",
    "        total_count = pd.DataFrame(total_count).reset_index(level=0)\n",
    "        relative_count = pd.DataFrame(relative_count).reset_index(level=0)\n",
    "\n",
    "        # merge the two data frames, based on the neighbourhood name\n",
    "        data = total_count.merge(relative_count,how='left',on='index',suffixes=('_total', '_relative'))\n",
    "        data = data.fillna(0)\n",
    "        # calculate the relative number\n",
    "        data['Result'] = data['neighbourhood_cleansed_relative']/data['neighbourhood_cleansed_total']\n",
    "\n",
    "        # sort to find largest percentage\n",
    "        data = data.sort_values('Result',ascending=False)\n",
    "        # save the result in variable \n",
    "        result = data.iloc[0,0]\n",
    "        \n",
    "    return result"
   ]
  },
  {
   "cell_type": "code",
   "execution_count": 51,
   "metadata": {},
   "outputs": [
    {
     "data": {
      "text/plain": [
       "'Centrum-West'"
      ]
     },
     "execution_count": 51,
     "metadata": {},
     "output_type": "execute_result"
    }
   ],
   "source": [
    "#example\n",
    "recommend_neighbourhood(df,600,1000,True)"
   ]
  },
  {
   "cell_type": "markdown",
   "metadata": {
    "id": "a-FSWRJ6zSMM"
   },
   "source": [
    "### Price recommender for hosts"
   ]
  },
  {
   "cell_type": "code",
   "execution_count": 52,
   "metadata": {
    "id": "3mqdc5aUTjga"
   },
   "outputs": [],
   "source": [
    "def recommend_price(df,latitude,longitude,n_neighbours,room_type=None):\n",
    "    '''\n",
    "    Function which recommends the price a host should list their property,\n",
    "    based upon its location, a given number of neighbours and the room type\n",
    "\n",
    "    Parameters:\n",
    "    -----------\n",
    "    df: pandas.DataFrame\n",
    "      Airbnb dataframe\n",
    "\n",
    "    latitude: float\n",
    "      latitude coordinate\n",
    "\n",
    "    longitude: float\n",
    "      longitude coordinate\n",
    "\n",
    "    room_type: string, optional\n",
    "      Default = None\n",
    "      filter the listings by room type. Defaulted at None, which looks at\n",
    "      all room types\n",
    "\n",
    "    Returns:\n",
    "    --------\n",
    "    mean_price: float\n",
    "      The mean price of the closest N neighbours \n",
    "      \n",
    "    '''\n",
    "    # consider all room types\n",
    "    if room_type == None: \n",
    "    \n",
    "        lat_distances = []\n",
    "        long_distances = []\n",
    "\n",
    "        for lat in df['latitude']:\n",
    "            #calculate the distance\n",
    "            lat_distances.append(latitude-lat)\n",
    "\n",
    "        for long in df['longitude']:\n",
    "            #calculate the distance\n",
    "            long_distances.append(longitude-long)\n",
    "\n",
    "        #create df with latitute and longitude\n",
    "        dist = pd.DataFrame(lat_distances,long_distances).reset_index(level=0)\n",
    "        dist['latitude'] = dist['index']\n",
    "        dist['longitude'] = dist[0]\n",
    "        dist = dist.iloc[:,2:4]\n",
    "\n",
    "        # calculate distance via pythag theorem\n",
    "        distance = []\n",
    "        for lat,long in zip(dist['latitude'],dist['longitude']):\n",
    "            distance.append(np.sqrt((lat)**2 + (long)**2))\n",
    "\n",
    "        dist['distance'] = distance\n",
    "        dist['price'] = df['price']\n",
    "        #sort df by distance in ascending order\n",
    "        dist = dist.sort_values('distance')\n",
    "        # calculate the mean price of the N closest listings\n",
    "        mean_price = dist.head(n_neighbours)['price'].mean()\n",
    "\n",
    "    else:\n",
    "        # filters the df to have only the specfied room type contained\n",
    "        df = df[df['room_type']  == room_type]\n",
    "        \n",
    "        lat_distances = []\n",
    "        long_distances = []\n",
    "\n",
    "        for lat in df['latitude']:\n",
    "            #calculate the distance\n",
    "            lat_distances.append(latitude-lat)\n",
    "\n",
    "        for long in df['longitude']:\n",
    "            #calculate the distance\n",
    "            long_distances.append(longitude-long)\n",
    "\n",
    "        #create df with latitute and longitude\n",
    "        dist = pd.DataFrame(lat_distances,long_distances).reset_index(level=0)\n",
    "        dist['latitude'] = dist['index']\n",
    "        dist['longitude'] = dist[0]\n",
    "        dist = dist.iloc[:,2:4]\n",
    "\n",
    "        # calculate distance via pythag theorem\n",
    "        distance = []\n",
    "        for lat,long in zip(dist['latitude'],dist['longitude']):\n",
    "            distance.append(np.sqrt((lat)**2 + (long)**2))\n",
    "\n",
    "        dist['distance'] = distance\n",
    "        dist['price'] = df['price']\n",
    "        #sort df by distance in ascending order\n",
    "        dist = dist.sort_values('distance')\n",
    "        # calculate the mean price of the N closest listings\n",
    "        mean_price = dist.head(n_neighbours)['price'].mean()\n",
    "\n",
    "    return mean_price"
   ]
  },
  {
   "cell_type": "code",
   "execution_count": 53,
   "metadata": {},
   "outputs": [
    {
     "data": {
      "text/plain": [
       "72.0"
      ]
     },
     "execution_count": 53,
     "metadata": {},
     "output_type": "execute_result"
    }
   ],
   "source": [
    "#example\n",
    "recommend_price(df,50,5,10,'Private room')"
   ]
  }
 ],
 "metadata": {
  "colab": {
   "collapsed_sections": [],
   "name": "Part1_2.ipynb",
   "provenance": [],
   "toc_visible": true
  },
  "kernelspec": {
   "display_name": "Python 3",
   "language": "python",
   "name": "python3"
  },
  "language_info": {
   "codemirror_mode": {
    "name": "ipython",
    "version": 3
   },
   "file_extension": ".py",
   "mimetype": "text/x-python",
   "name": "python",
   "nbconvert_exporter": "python",
   "pygments_lexer": "ipython3",
   "version": "3.8.3"
  }
 },
 "nbformat": 4,
 "nbformat_minor": 1
}
